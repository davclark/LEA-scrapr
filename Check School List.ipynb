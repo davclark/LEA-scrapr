{
 "cells": [
  {
   "cell_type": "code",
   "execution_count": 2,
   "metadata": {
    "collapsed": true
   },
   "outputs": [],
   "source": [
    "import pandas as pd\n",
    "from glob import glob"
   ]
  },
  {
   "cell_type": "markdown",
   "metadata": {},
   "source": [
    "## Get our list of schools (and districts)"
   ]
  },
  {
   "cell_type": "code",
   "execution_count": 3,
   "metadata": {
    "collapsed": false
   },
   "outputs": [],
   "source": [
    "school_df = pd.read_excel('./pubschls.xls') # I got this file from Claudia"
   ]
  },
  {
   "cell_type": "code",
   "execution_count": 4,
   "metadata": {
    "collapsed": false
   },
   "outputs": [
    {
     "data": {
      "text/plain": [
       "16133"
      ]
     },
     "execution_count": 4,
     "metadata": {},
     "output_type": "execute_result"
    }
   ],
   "source": [
    "len(school_df.School.dropna())"
   ]
  },
  {
   "cell_type": "markdown",
   "metadata": {},
   "source": [
    "## Shit - it turns out many schools have many duplicated names"
   ]
  },
  {
   "cell_type": "code",
   "execution_count": 11,
   "metadata": {
    "collapsed": false
   },
   "outputs": [
    {
     "data": {
      "text/plain": [
       "Lincoln Elementary                48\n",
       "Washington Elementary             46\n",
       "Jefferson Elementary              33\n",
       "Franklin Elementary               25\n",
       "Roosevelt Elementary              25\n",
       "McKinley Elementary               23\n",
       "Wilson Elementary                 20\n",
       "Madison Elementary                18\n",
       "Monte Vista Elementary            15\n",
       "Garfield Elementary               15\n",
       "Grant Elementary                  15\n",
       "Fremont Elementary                14\n",
       "Valley View Elementary            14\n",
       "Alternative/Opportunity           14\n",
       "Community Day                     14\n",
       "Central Elementary                13\n",
       "Sierra Vista Elementary           12\n",
       "Linda Vista Elementary            11\n",
       "Sequoia Elementary                11\n",
       "Laurel Elementary                 10\n",
       "Special Education                 10\n",
       "Rio Vista Elementary              10\n",
       "Hamilton Elementary               10\n",
       "Sierra Elementary                 10\n",
       "Monroe Elementary                 10\n",
       "Magnolia Elementary               10\n",
       "Pioneer Elementary                10\n",
       "Abraham Lincoln Elementary        10\n",
       "John Muir Elementary              10\n",
       "Mountain View Elementary          10\n",
       "                                  ..\n",
       "Sheridan Elementary                2\n",
       "Burnett Elementary                 2\n",
       "Richland Junior High               2\n",
       "Revere (Paul) Elementary           2\n",
       "Oakdale High                       2\n",
       "Mann Elementary                    2\n",
       "Bayside Elementary                 2\n",
       "El Dorado High                     2\n",
       "Granada Elementary                 2\n",
       "Opportunity High                   2\n",
       "Dorothy J. Mahin TMR               2\n",
       "Sycamore Middle                    2\n",
       "Paradise Elementary                2\n",
       "George C. Jacobs Junior High       2\n",
       "Templeton Community Day            2\n",
       "Gateway Center                     2\n",
       "Sinaloa Middle                     2\n",
       "Santa Maria State Preschool        2\n",
       "Westpark Elementary                2\n",
       "Los Robles High                    2\n",
       "Los Robles Elementary              2\n",
       "Sleepy Hollow Elementary           2\n",
       "Terra Cotta Junior High            2\n",
       "Argonne Elementary                 2\n",
       "Tracy Adult                        2\n",
       "Southern Trinity Community Day     2\n",
       "Murrieta Elementary                2\n",
       "Thurgood Marshall Elementary       2\n",
       "Sunset View Elementary             2\n",
       "Chrysalis Charter                  2\n",
       "dtype: int64"
      ]
     },
     "execution_count": 11,
     "metadata": {},
     "output_type": "execute_result"
    }
   ],
   "source": [
    "dups = school_df.School.dropna().value_counts()\n",
    "dups = dups[dups > 1]\n",
    "dups"
   ]
  },
  {
   "cell_type": "markdown",
   "metadata": {},
   "source": [
    "## How many of the above actually got any hits..."
   ]
  },
  {
   "cell_type": "code",
   "execution_count": 48,
   "metadata": {
    "collapsed": false
   },
   "outputs": [
    {
     "data": {
      "text/plain": [
       "['Abraham Lincoln Elementary',\n",
       " 'Adult Education',\n",
       " 'Albert Schweitzer Elementary',\n",
       " 'Almond Elementary',\n",
       " 'Alpine Elementary',\n",
       " 'Alta Loma Elementary',\n",
       " 'Anza Elementary',\n",
       " 'Athenour Elementary',\n",
       " 'Bannon Creek Elementary',\n",
       " 'Barrett Elementary',\n",
       " 'Bloomfield Elementary',\n",
       " 'Bowman Charter',\n",
       " 'Burnett Elementary',\n",
       " 'California Virtual Academy @ San Joaquin',\n",
       " 'California Virtual Academy @ San Mateo',\n",
       " 'Central Elementary',\n",
       " 'Cerritos Elementary',\n",
       " 'Cesar E. Chavez Middle',\n",
       " 'Chaparral Elementary',\n",
       " 'Chemehuevi Valley Elementary',\n",
       " 'Cienega Elementary',\n",
       " 'Clay Elementary',\n",
       " 'Coast Union High',\n",
       " 'Colston Elementary and High Sc',\n",
       " 'Community Day',\n",
       " 'Contract Independent Study',\n",
       " 'Copperopolis Elementary',\n",
       " 'Cottonwood Community Day',\n",
       " 'Cottonwood Elementary',\n",
       " 'Delta Island Elementary',\n",
       " 'Dover Elementary',\n",
       " 'El Camino Elementary',\n",
       " 'Emerson Elementary',\n",
       " 'Encinal Elementary',\n",
       " 'Esperanza High',\n",
       " 'Excelsior Middle',\n",
       " 'Fair Oaks Elementary',\n",
       " 'Farmdale Elementary',\n",
       " 'Firebaugh Community Day',\n",
       " 'Fletcher Elementary',\n",
       " 'Franklin Elementary',\n",
       " 'Fremont Elementary',\n",
       " 'Frontier Elementary',\n",
       " 'Garfield Elementary',\n",
       " 'Gateway Community Day',\n",
       " 'George Washington Elementary',\n",
       " 'Grand Oaks Elementary',\n",
       " 'Grant Elementary',\n",
       " 'Hamilton Elementary',\n",
       " 'Harding Elementary',\n",
       " 'Harrison Elementary',\n",
       " 'Heritage Elementary',\n",
       " 'Hoover Elementary',\n",
       " 'Independence High',\n",
       " 'Independent Study Program',\n",
       " 'Jefferson Elementary',\n",
       " 'Joaquin Miller Elementary',\n",
       " 'John F. Kennedy Elementary',\n",
       " 'Johnson Elementary',\n",
       " 'Kennedy Elementary',\n",
       " 'Kirk Elementary',\n",
       " 'Lafayette Elementary',\n",
       " 'Lakeside Community Day',\n",
       " 'Lakeside Middle',\n",
       " 'Lee Elementary',\n",
       " 'Lincoln Elementary',\n",
       " 'Lincoln High',\n",
       " 'Lindbergh Elementary',\n",
       " 'Live Oak Elementary',\n",
       " 'Lone Tree Elementary',\n",
       " 'Longfellow Elementary',\n",
       " 'Magnolia Elementary',\n",
       " 'Maple Elementary',\n",
       " 'Maria Montessori Charter Academy',\n",
       " 'Mark Twain Elementary',\n",
       " 'McKinley Elementary',\n",
       " 'Meridian Elementary',\n",
       " 'Miranda Junior High',\n",
       " 'Mitchell Elementary',\n",
       " 'Monroe Elementary',\n",
       " 'Monte Vista Elementary',\n",
       " 'Monte Vista High',\n",
       " 'Monte Vista Middle',\n",
       " 'Montezuma Elementary',\n",
       " 'Monticello Elementary',\n",
       " 'Mosaica Online Academy of Southern California',\n",
       " 'Mountain View Elementary',\n",
       " 'Nelson Elementary',\n",
       " 'Newcastle Elementary',\n",
       " 'North Elementary',\n",
       " 'Northern Light Charter',\n",
       " 'Oak Hill Elementary',\n",
       " 'Oak View Elementary',\n",
       " 'Oakdale Elementary',\n",
       " 'Old River Elementary',\n",
       " 'Ophir Elementary',\n",
       " 'Orange Grove Elementary',\n",
       " 'Orchard Elementary',\n",
       " 'Ortega Elementary',\n",
       " 'Pacific Elementary',\n",
       " 'Paloma Elementary',\n",
       " 'Park View Elementary',\n",
       " 'Parks (Rosa) Elementary',\n",
       " 'Parkway Elementary',\n",
       " 'Pershing Elementary',\n",
       " 'Phelan Elementary',\n",
       " 'Pine Elementary',\n",
       " 'Pio Pico Elementary',\n",
       " 'Pioneer Elementary',\n",
       " 'Pioneer Junior High',\n",
       " 'Pleasant Valley Elementary',\n",
       " 'Portola Elementary',\n",
       " 'Preschool',\n",
       " 'Ramona Elementary',\n",
       " 'Rio Vista Elementary',\n",
       " 'Riverside STEM Academy',\n",
       " 'Riverview Middle',\n",
       " 'Ronald W. Reagan Elementary',\n",
       " 'Roosevelt Elementary',\n",
       " 'Ross Elementary',\n",
       " 'San Carlos High',\n",
       " 'San Mateo-Foster City Community Day',\n",
       " 'Sawyers Bar Elementary',\n",
       " 'Scripps Elementary',\n",
       " 'Sherman Elementary',\n",
       " 'Short Elementary',\n",
       " 'Sierra Charter',\n",
       " 'Sierra View Elementary',\n",
       " 'Silverado High',\n",
       " 'Skyline Elementary',\n",
       " 'South County Community Day',\n",
       " 'South High',\n",
       " 'Spring Valley Elementary',\n",
       " 'Success High',\n",
       " 'Sundance Elementary',\n",
       " 'Sunrise Elementary',\n",
       " 'Sunset View Elementary',\n",
       " 'Templeton Community Day',\n",
       " 'The Academy',\n",
       " 'Thomas Jefferson Elementary',\n",
       " 'Upland High',\n",
       " 'Valley Center High',\n",
       " 'Valley View Elementary',\n",
       " 'Valley Vista Elementary',\n",
       " 'Village Elementary',\n",
       " 'Vista Grande Elementary',\n",
       " 'Vista High (Continuation)',\n",
       " 'Williams Elementary',\n",
       " 'Willow Elementary',\n",
       " 'Willow Grove Elementary',\n",
       " 'Woodside Elementary']"
      ]
     },
     "execution_count": 48,
     "metadata": {},
     "output_type": "execute_result"
    }
   ],
   "source": [
    "need_to_refetch = []\n",
    "for name in dups.index:\n",
    "    name = name.replace('/', '_')\n",
    "    existing = glob('./scraped-pages/*/{}.html'.format(name))\n",
    "    if existing:\n",
    "        need_to_refetch.append(name)\n",
    "        \n",
    "sorted(need_to_refetch)"
   ]
  },
  {
   "cell_type": "code",
   "execution_count": 13,
   "metadata": {
    "collapsed": false
   },
   "outputs": [
    {
     "data": {
      "text/plain": [
       "151"
      ]
     },
     "execution_count": 13,
     "metadata": {},
     "output_type": "execute_result"
    }
   ],
   "source": [
    "len(need_to_refetch)"
   ]
  },
  {
   "cell_type": "markdown",
   "metadata": {},
   "source": [
    "## Let's move everything else into it's District"
   ]
  },
  {
   "cell_type": "code",
   "execution_count": 20,
   "metadata": {
    "collapsed": true
   },
   "outputs": [],
   "source": [
    "from os import renames, path"
   ]
  },
  {
   "cell_type": "code",
   "execution_count": 46,
   "metadata": {
    "collapsed": false
   },
   "outputs": [],
   "source": [
    "# This is now a null-op\n",
    "all_files = glob('./scraped-pages/*.html')\n",
    "school_names = [root.replace('_', '/') for root, ext in \n",
    "                   [path.splitext(path.basename(f)) for f in all_files] ]\n",
    "\n",
    "for name, file in zip(school_names, all_files):\n",
    "    if name not in need_to_refetch:\n",
    "        if (name == school_df.District).any():\n",
    "            district = name\n",
    "        else:\n",
    "            district, = school_df.District[school_df.School == name]\n",
    "        target_dir = path.join('./scraped-pages', district)\n",
    "        renames(file, path.join(target_dir, path.basename(file)))"
   ]
  },
  {
   "cell_type": "code",
   "execution_count": 45,
   "metadata": {
    "collapsed": false
   },
   "outputs": [
    {
     "data": {
      "text/plain": [
       "'./scraped-pages/Yucaipa-Calimesa Joint Unified'"
      ]
     },
     "execution_count": 45,
     "metadata": {},
     "output_type": "execute_result"
    }
   ],
   "source": [
    "target_dir"
   ]
  },
  {
   "cell_type": "code",
   "execution_count": null,
   "metadata": {
    "collapsed": true
   },
   "outputs": [],
   "source": []
  }
 ],
 "metadata": {
  "kernelspec": {
   "display_name": "Python 3",
   "language": "python",
   "name": "python3"
  },
  "language_info": {
   "codemirror_mode": {
    "name": "ipython",
    "version": 3
   },
   "file_extension": ".py",
   "mimetype": "text/x-python",
   "name": "python",
   "nbconvert_exporter": "python",
   "pygments_lexer": "ipython3",
   "version": "3.4.3"
  }
 },
 "nbformat": 4,
 "nbformat_minor": 0
}
